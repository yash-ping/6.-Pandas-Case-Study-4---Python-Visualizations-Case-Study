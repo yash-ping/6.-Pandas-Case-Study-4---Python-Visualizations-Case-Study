{
 "cells": [
  {
   "cell_type": "code",
   "execution_count": 1,
   "metadata": {},
   "outputs": [],
   "source": [
    "import os\n",
    "import pandas as pd\n",
    "import numpy as np\n",
    "import matplotlib.pyplot as plt\n",
    "%matplotlib inline\n",
    "import datetime\n",
    "import seaborn as sns"
   ]
  },
  {
   "cell_type": "code",
   "execution_count": 2,
   "metadata": {},
   "outputs": [],
   "source": [
    "sales = pd.read_csv('C:\\\\Users\\\\Yash\\\\Desktop\\\\STATS\\\\CASE STUDY FOR PANDAS\\\\6. Pandas Case Study 4 - Python Visualizations Case Study\\\\SalesData.csv')"
   ]
  },
  {
   "cell_type": "code",
   "execution_count": 8,
   "metadata": {},
   "outputs": [
    {
     "data": {
      "text/html": [
       "<div>\n",
       "<style scoped>\n",
       "    .dataframe tbody tr th:only-of-type {\n",
       "        vertical-align: middle;\n",
       "    }\n",
       "\n",
       "    .dataframe tbody tr th {\n",
       "        vertical-align: top;\n",
       "    }\n",
       "\n",
       "    .dataframe thead th {\n",
       "        text-align: right;\n",
       "    }\n",
       "</style>\n",
       "<table border=\"1\" class=\"dataframe\">\n",
       "  <thead>\n",
       "    <tr style=\"text-align: right;\">\n",
       "      <th></th>\n",
       "      <th>AccountId</th>\n",
       "      <th>AccountName</th>\n",
       "      <th>Region</th>\n",
       "      <th>Division</th>\n",
       "      <th>City</th>\n",
       "      <th>State</th>\n",
       "      <th>Tier</th>\n",
       "      <th>Month</th>\n",
       "      <th>Sales2015</th>\n",
       "      <th>Sales2016</th>\n",
       "      <th>Units2015</th>\n",
       "      <th>Units2016</th>\n",
       "      <th>TargetAchevied2015</th>\n",
       "      <th>TargetAchevied2016</th>\n",
       "    </tr>\n",
       "  </thead>\n",
       "  <tbody>\n",
       "    <tr>\n",
       "      <th>0</th>\n",
       "      <td>1116</td>\n",
       "      <td>Account1</td>\n",
       "      <td>West</td>\n",
       "      <td>DIAMONDBACK</td>\n",
       "      <td>PHOENIX W</td>\n",
       "      <td>AZ</td>\n",
       "      <td>Low</td>\n",
       "      <td>Aug</td>\n",
       "      <td>0.00</td>\n",
       "      <td>13208.52</td>\n",
       "      <td>0.0</td>\n",
       "      <td>4.0</td>\n",
       "      <td>0.70</td>\n",
       "      <td>1.53</td>\n",
       "    </tr>\n",
       "    <tr>\n",
       "      <th>1</th>\n",
       "      <td>1116</td>\n",
       "      <td>Account1</td>\n",
       "      <td>West</td>\n",
       "      <td>DIAMONDBACK</td>\n",
       "      <td>PHOENIX W</td>\n",
       "      <td>AZ</td>\n",
       "      <td>Low</td>\n",
       "      <td>Oct</td>\n",
       "      <td>10500.78</td>\n",
       "      <td>23114.91</td>\n",
       "      <td>3.0</td>\n",
       "      <td>7.0</td>\n",
       "      <td>0.84</td>\n",
       "      <td>1.31</td>\n",
       "    </tr>\n",
       "    <tr>\n",
       "      <th>2</th>\n",
       "      <td>2391</td>\n",
       "      <td>Account2</td>\n",
       "      <td>East</td>\n",
       "      <td>MINUTEMEN</td>\n",
       "      <td>HARTFORD</td>\n",
       "      <td>CT</td>\n",
       "      <td>Med</td>\n",
       "      <td>Jun</td>\n",
       "      <td>0.00</td>\n",
       "      <td>6627.00</td>\n",
       "      <td>0.0</td>\n",
       "      <td>3.0</td>\n",
       "      <td>1.15</td>\n",
       "      <td>1.29</td>\n",
       "    </tr>\n",
       "    <tr>\n",
       "      <th>3</th>\n",
       "      <td>2391</td>\n",
       "      <td>Account2</td>\n",
       "      <td>East</td>\n",
       "      <td>MINUTEMEN</td>\n",
       "      <td>HARTFORD</td>\n",
       "      <td>CT</td>\n",
       "      <td>Med</td>\n",
       "      <td>Mar</td>\n",
       "      <td>19881.00</td>\n",
       "      <td>13254.00</td>\n",
       "      <td>9.0</td>\n",
       "      <td>6.0</td>\n",
       "      <td>1.33</td>\n",
       "      <td>1.17</td>\n",
       "    </tr>\n",
       "    <tr>\n",
       "      <th>4</th>\n",
       "      <td>2397</td>\n",
       "      <td>Account3</td>\n",
       "      <td>East</td>\n",
       "      <td>MINUTEMEN</td>\n",
       "      <td>WORCESTER</td>\n",
       "      <td>MA</td>\n",
       "      <td>Med</td>\n",
       "      <td>Sep</td>\n",
       "      <td>3684.48</td>\n",
       "      <td>0.00</td>\n",
       "      <td>1.0</td>\n",
       "      <td>0.0</td>\n",
       "      <td>1.02</td>\n",
       "      <td>1.53</td>\n",
       "    </tr>\n",
       "  </tbody>\n",
       "</table>\n",
       "</div>"
      ],
      "text/plain": [
       "   AccountId AccountName Region     Division       City State Tier Month  \\\n",
       "0       1116    Account1   West  DIAMONDBACK  PHOENIX W    AZ  Low   Aug   \n",
       "1       1116    Account1   West  DIAMONDBACK  PHOENIX W    AZ  Low   Oct   \n",
       "2       2391    Account2   East    MINUTEMEN   HARTFORD    CT  Med   Jun   \n",
       "3       2391    Account2   East    MINUTEMEN   HARTFORD    CT  Med   Mar   \n",
       "4       2397    Account3   East    MINUTEMEN  WORCESTER    MA  Med   Sep   \n",
       "\n",
       "   Sales2015  Sales2016  Units2015  Units2016  TargetAchevied2015  \\\n",
       "0       0.00   13208.52        0.0        4.0                0.70   \n",
       "1   10500.78   23114.91        3.0        7.0                0.84   \n",
       "2       0.00    6627.00        0.0        3.0                1.15   \n",
       "3   19881.00   13254.00        9.0        6.0                1.33   \n",
       "4    3684.48       0.00        1.0        0.0                1.02   \n",
       "\n",
       "   TargetAchevied2016  \n",
       "0                1.53  \n",
       "1                1.31  \n",
       "2                1.29  \n",
       "3                1.17  \n",
       "4                1.53  "
      ]
     },
     "execution_count": 8,
     "metadata": {},
     "output_type": "execute_result"
    }
   ],
   "source": [
    "sales.head()"
   ]
  },
  {
   "cell_type": "markdown",
   "metadata": {},
   "source": [
    "### 1. Compare Sales by region for 2016 with 2015 using bar chart"
   ]
  },
  {
   "cell_type": "code",
   "execution_count": 9,
   "metadata": {},
   "outputs": [
    {
     "data": {
      "text/plain": [
       "<matplotlib.axes._subplots.AxesSubplot at 0x1cf0e0e5708>"
      ]
     },
     "execution_count": 9,
     "metadata": {},
     "output_type": "execute_result"
    },
    {
     "data": {
      "image/png": "[encoded data removed]",
      "text/plain": [
       "<Figure size 432x288 with 1 Axes>"
      ]
     },
     "metadata": {
      "needs_background": "light"
     },
     "output_type": "display_data"
    }
   ],
   "source": [
    "\n",
    "\n",
    "\n",
    "sales.groupby(['Region','Tier'],sort=True).sum()[['Sales2015','Sales2016']].unstack().plot(kind=\"bar\",width = .8)\n",
    "#sales1graph=sales1.plot.bar(figsize=(12,6))"
   ]
  },
  {
   "cell_type": "markdown",
   "metadata": {},
   "source": [
    "### 2. What are the contributing factors to the sales for each region in 2016. Visualize it using a Pie Chart."
   ]
  },
  {
   "cell_type": "code",
   "execution_count": 10,
   "metadata": {},
   "outputs": [
    {
     "data": {
      "text/plain": [
       "array([<matplotlib.axes._subplots.AxesSubplot object at 0x000001CF0DD7BA88>],\n",
       "      dtype=object)"
      ]
     },
     "execution_count": 10,
     "metadata": {},
     "output_type": "execute_result"
    },
    {
     "data": {
      "image/png": "[encoded data removed]",
      "text/plain": [
       "<Figure size 432x288 with 1 Axes>"
      ]
     },
     "metadata": {},
     "output_type": "display_data"
    }
   ],
   "source": [
    "sales_region = sales.groupby('Region')['Sales2016'].sum()#[['Sales2016']].aggregate({})\n",
    "sales_region.plot(kind='pie', \n",
    "            labels=['Tier','Division','Region'],\n",
    "            autopct='%1.0f%%', \n",
    "            fontsize=20, \n",
    "            subplots='true')\n"
   ]
  },
  {
   "cell_type": "markdown",
   "metadata": {},
   "source": [
    "### 3. Compare the total sales of 2015 and 2016 with respect to Region and Tiers"
   ]
  },
  {
   "cell_type": "code",
   "execution_count": 11,
   "metadata": {},
   "outputs": [
    {
     "name": "stderr",
     "output_type": "stream",
     "text": [
      "C:\\Users\\Yash\\anaconda3\\lib\\site-packages\\ipykernel_launcher.py:1: FutureWarning: Indexing with multiple keys (implicitly converted to a tuple of keys) will be deprecated, use a list instead.\n",
      "  \"\"\"Entry point for launching an IPython kernel.\n"
     ]
    },
    {
     "data": {
      "image/png": "[encoded data removed]",
      "text/plain": [
       "<Figure size 1296x432 with 1 Axes>"
      ]
     },
     "metadata": {
      "needs_background": "light"
     },
     "output_type": "display_data"
    }
   ],
   "source": [
    "sales_Region_Tiers = sales.groupby(['Region','Tier'])['Sales2015','Sales2016'].sum()#.aggregate({})\n",
    "\n",
    "sales_Region_Tiers=sales_Region_Tiers.plot.bar(figsize=(18,6))"
   ]
  },
  {
   "cell_type": "markdown",
   "metadata": {},
   "source": [
    "### 4. In East region, which state registered a decline in 2016 as compared to 2015?"
   ]
  },
  {
   "cell_type": "code",
   "execution_count": 13,
   "metadata": {},
   "outputs": [
    {
     "name": "stderr",
     "output_type": "stream",
     "text": [
      "C:\\Users\\Yash\\anaconda3\\lib\\site-packages\\ipykernel_launcher.py:2: FutureWarning: Indexing with multiple keys (implicitly converted to a tuple of keys) will be deprecated, use a list instead.\n",
      "  \n"
     ]
    },
    {
     "data": {
      "image/png": "[encoded data removed]",
      "text/plain": [
       "<Figure size 1296x432 with 1 Axes>"
      ]
     },
     "metadata": {
      "needs_background": "light"
     },
     "output_type": "display_data"
    }
   ],
   "source": [
    "state = sales.loc[(sales.Region == 'East')]\n",
    "sales1 = sales.groupby('State')['Sales2015','Sales2016'].sum()\n",
    "sales1\n",
    "state=sales1.where(sales['Sales2015'] > sales['Sales2016']).notnull()\n",
    "state\n",
    "sales_graph=sales1.plot.bar(figsize=(18,6))"
   ]
  },
  {
   "cell_type": "code",
   "execution_count": null,
   "metadata": {},
   "outputs": [],
   "source": []
  },
  {
   "cell_type": "code",
   "execution_count": null,
   "metadata": {},
   "outputs": [],
   "source": []
  },
  {
   "cell_type": "markdown",
   "metadata": {},
   "source": [
    "### 5. In all the High tier, which Division saw a decline in number of units sold in 2016 compared to 2015?"
   ]
  },
  {
   "cell_type": "code",
   "execution_count": 17,
   "metadata": {},
   "outputs": [
    {
     "name": "stderr",
     "output_type": "stream",
     "text": [
      "C:\\Users\\Yash\\anaconda3\\lib\\site-packages\\ipykernel_launcher.py:1: FutureWarning: Indexing with multiple keys (implicitly converted to a tuple of keys) will be deprecated, use a list instead.\n",
      "  \"\"\"Entry point for launching an IPython kernel.\n"
     ]
    },
    {
     "data": {
      "text/html": [
       "<div>\n",
       "<style scoped>\n",
       "    .dataframe tbody tr th:only-of-type {\n",
       "        vertical-align: middle;\n",
       "    }\n",
       "\n",
       "    .dataframe tbody tr th {\n",
       "        vertical-align: top;\n",
       "    }\n",
       "\n",
       "    .dataframe thead th {\n",
       "        text-align: right;\n",
       "    }\n",
       "</style>\n",
       "<table border=\"1\" class=\"dataframe\">\n",
       "  <thead>\n",
       "    <tr style=\"text-align: right;\">\n",
       "      <th></th>\n",
       "      <th>Sales2015</th>\n",
       "      <th>Sales2016</th>\n",
       "    </tr>\n",
       "    <tr>\n",
       "      <th>Division</th>\n",
       "      <th></th>\n",
       "      <th></th>\n",
       "    </tr>\n",
       "  </thead>\n",
       "  <tbody>\n",
       "    <tr>\n",
       "      <th>BIG APPLE</th>\n",
       "      <td>563638.61</td>\n",
       "      <td>669485.03</td>\n",
       "    </tr>\n",
       "    <tr>\n",
       "      <th>CHARGERS</th>\n",
       "      <td>357746.20</td>\n",
       "      <td>485728.16</td>\n",
       "    </tr>\n",
       "    <tr>\n",
       "      <th>CONGRESSIONAL</th>\n",
       "      <td>481600.89</td>\n",
       "      <td>591768.57</td>\n",
       "    </tr>\n",
       "    <tr>\n",
       "      <th>DIAMONDBACK</th>\n",
       "      <td>422571.32</td>\n",
       "      <td>487963.45</td>\n",
       "    </tr>\n",
       "    <tr>\n",
       "      <th>EMPIRE</th>\n",
       "      <td>908479.99</td>\n",
       "      <td>1027031.07</td>\n",
       "    </tr>\n",
       "    <tr>\n",
       "      <th>GRIDIRON</th>\n",
       "      <td>499841.12</td>\n",
       "      <td>623601.66</td>\n",
       "    </tr>\n",
       "    <tr>\n",
       "      <th>GULF STREAM</th>\n",
       "      <td>507790.52</td>\n",
       "      <td>807835.66</td>\n",
       "    </tr>\n",
       "    <tr>\n",
       "      <th>HAILSTORM</th>\n",
       "      <td>515226.63</td>\n",
       "      <td>691777.98</td>\n",
       "    </tr>\n",
       "    <tr>\n",
       "      <th>KINETIC</th>\n",
       "      <td>614482.72</td>\n",
       "      <td>667336.37</td>\n",
       "    </tr>\n",
       "    <tr>\n",
       "      <th>MINUTEMEN</th>\n",
       "      <td>618158.37</td>\n",
       "      <td>747001.51</td>\n",
       "    </tr>\n",
       "    <tr>\n",
       "      <th>MUDDY WATERS</th>\n",
       "      <td>444958.31</td>\n",
       "      <td>610003.75</td>\n",
       "    </tr>\n",
       "    <tr>\n",
       "      <th>NORDIC</th>\n",
       "      <td>565723.38</td>\n",
       "      <td>636846.01</td>\n",
       "    </tr>\n",
       "    <tr>\n",
       "      <th>NORTHWEST</th>\n",
       "      <td>373592.80</td>\n",
       "      <td>439370.91</td>\n",
       "    </tr>\n",
       "    <tr>\n",
       "      <th>ORION</th>\n",
       "      <td>481504.53</td>\n",
       "      <td>750046.34</td>\n",
       "    </tr>\n",
       "    <tr>\n",
       "      <th>RACEWAY</th>\n",
       "      <td>524352.97</td>\n",
       "      <td>873553.37</td>\n",
       "    </tr>\n",
       "    <tr>\n",
       "      <th>REVOLUTION</th>\n",
       "      <td>491242.22</td>\n",
       "      <td>539168.62</td>\n",
       "    </tr>\n",
       "    <tr>\n",
       "      <th>RIPTIDE</th>\n",
       "      <td>424525.10</td>\n",
       "      <td>525107.32</td>\n",
       "    </tr>\n",
       "    <tr>\n",
       "      <th>SOUTHERN STAR</th>\n",
       "      <td>659347.78</td>\n",
       "      <td>777971.13</td>\n",
       "    </tr>\n",
       "    <tr>\n",
       "      <th>STAMPEDE</th>\n",
       "      <td>542975.11</td>\n",
       "      <td>675598.18</td>\n",
       "    </tr>\n",
       "    <tr>\n",
       "      <th>SYNERGY</th>\n",
       "      <td>835654.07</td>\n",
       "      <td>1076243.00</td>\n",
       "    </tr>\n",
       "    <tr>\n",
       "      <th>THE CAROLINAS</th>\n",
       "      <td>738403.51</td>\n",
       "      <td>979102.01</td>\n",
       "    </tr>\n",
       "    <tr>\n",
       "      <th>TORNADO VALLEY</th>\n",
       "      <td>365398.45</td>\n",
       "      <td>529822.29</td>\n",
       "    </tr>\n",
       "    <tr>\n",
       "      <th>VICTORY</th>\n",
       "      <td>476473.41</td>\n",
       "      <td>629469.29</td>\n",
       "    </tr>\n",
       "    <tr>\n",
       "      <th>WAVE RIDER</th>\n",
       "      <td>485728.76</td>\n",
       "      <td>608268.24</td>\n",
       "    </tr>\n",
       "    <tr>\n",
       "      <th>WOLVERINE</th>\n",
       "      <td>368656.35</td>\n",
       "      <td>436857.32</td>\n",
       "    </tr>\n",
       "    <tr>\n",
       "      <th>WRANGLER</th>\n",
       "      <td>578360.69</td>\n",
       "      <td>724275.15</td>\n",
       "    </tr>\n",
       "  </tbody>\n",
       "</table>\n",
       "</div>"
      ],
      "text/plain": [
       "                Sales2015   Sales2016\n",
       "Division                             \n",
       "BIG APPLE       563638.61   669485.03\n",
       "CHARGERS        357746.20   485728.16\n",
       "CONGRESSIONAL   481600.89   591768.57\n",
       "DIAMONDBACK     422571.32   487963.45\n",
       "EMPIRE          908479.99  1027031.07\n",
       "GRIDIRON        499841.12   623601.66\n",
       "GULF STREAM     507790.52   807835.66\n",
       "HAILSTORM       515226.63   691777.98\n",
       "KINETIC         614482.72   667336.37\n",
       "MINUTEMEN       618158.37   747001.51\n",
       "MUDDY WATERS    444958.31   610003.75\n",
       "NORDIC          565723.38   636846.01\n",
       "NORTHWEST       373592.80   439370.91\n",
       "ORION           481504.53   750046.34\n",
       "RACEWAY         524352.97   873553.37\n",
       "REVOLUTION      491242.22   539168.62\n",
       "RIPTIDE         424525.10   525107.32\n",
       "SOUTHERN STAR   659347.78   777971.13\n",
       "STAMPEDE        542975.11   675598.18\n",
       "SYNERGY         835654.07  1076243.00\n",
       "THE CAROLINAS   738403.51   979102.01\n",
       "TORNADO VALLEY  365398.45   529822.29\n",
       "VICTORY         476473.41   629469.29\n",
       "WAVE RIDER      485728.76   608268.24\n",
       "WOLVERINE       368656.35   436857.32\n",
       "WRANGLER        578360.69   724275.15"
      ]
     },
     "execution_count": 17,
     "metadata": {},
     "output_type": "execute_result"
    }
   ],
   "source": [
    "sales_High_tier = sales.groupby(['Tier','Division'])['Sales2015','Sales2016'].sum().loc['High']\n",
    "sales_High_tier"
   ]
  },
  {
   "cell_type": "code",
   "execution_count": 18,
   "metadata": {},
   "outputs": [
    {
     "data": {
      "text/html": [
       "<div>\n",
       "<style scoped>\n",
       "    .dataframe tbody tr th:only-of-type {\n",
       "        vertical-align: middle;\n",
       "    }\n",
       "\n",
       "    .dataframe tbody tr th {\n",
       "        vertical-align: top;\n",
       "    }\n",
       "\n",
       "    .dataframe thead th {\n",
       "        text-align: right;\n",
       "    }\n",
       "</style>\n",
       "<table border=\"1\" class=\"dataframe\">\n",
       "  <thead>\n",
       "    <tr style=\"text-align: right;\">\n",
       "      <th></th>\n",
       "      <th>Sales2015</th>\n",
       "      <th>Sales2016</th>\n",
       "    </tr>\n",
       "    <tr>\n",
       "      <th>Division</th>\n",
       "      <th></th>\n",
       "      <th></th>\n",
       "    </tr>\n",
       "  </thead>\n",
       "  <tbody>\n",
       "    <tr>\n",
       "      <th>BIG APPLE</th>\n",
       "      <td>NaN</td>\n",
       "      <td>NaN</td>\n",
       "    </tr>\n",
       "    <tr>\n",
       "      <th>CHARGERS</th>\n",
       "      <td>NaN</td>\n",
       "      <td>NaN</td>\n",
       "    </tr>\n",
       "    <tr>\n",
       "      <th>CONGRESSIONAL</th>\n",
       "      <td>NaN</td>\n",
       "      <td>NaN</td>\n",
       "    </tr>\n",
       "    <tr>\n",
       "      <th>DIAMONDBACK</th>\n",
       "      <td>NaN</td>\n",
       "      <td>NaN</td>\n",
       "    </tr>\n",
       "    <tr>\n",
       "      <th>EMPIRE</th>\n",
       "      <td>NaN</td>\n",
       "      <td>NaN</td>\n",
       "    </tr>\n",
       "  </tbody>\n",
       "</table>\n",
       "</div>"
      ],
      "text/plain": [
       "               Sales2015  Sales2016\n",
       "Division                           \n",
       "BIG APPLE            NaN        NaN\n",
       "CHARGERS             NaN        NaN\n",
       "CONGRESSIONAL        NaN        NaN\n",
       "DIAMONDBACK          NaN        NaN\n",
       "EMPIRE               NaN        NaN"
      ]
     },
     "execution_count": 18,
     "metadata": {},
     "output_type": "execute_result"
    }
   ],
   "source": [
    "se=sales_High_tier.where(sales_High_tier['Sales2015'] > sales_High_tier['Sales2016'])\n",
    "se.head()"
   ]
  },
  {
   "cell_type": "code",
   "execution_count": 49,
   "metadata": {},
   "outputs": [
    {
     "data": {
      "image/png": "[encoded data removed]",
      "text/plain": [
       "<Figure size 1296x432 with 1 Axes>"
      ]
     },
     "metadata": {
      "needs_background": "light"
     },
     "output_type": "display_data"
    }
   ],
   "source": [
    "sales_plot_graph=sales_High_tier.plot.bar(figsize=(18,6))\n",
    "plt.legend()\n",
    "plt.ylabel('Units')\n",
    "plt.show()"
   ]
  },
  {
   "cell_type": "markdown",
   "metadata": {},
   "source": [
    "### 6. Create a new column Qtr using numpy.where() or any suitable utility in the imported dataset. The Quarters are based on months and defined as -\n",
    "### •\tJan - Mar : Q1\n",
    "\n",
    "### •\tApr - Jun : Q2\n",
    "\n",
    "### •\tJul - Sep : Q3\n",
    "\n",
    "### •\tOct - Dec : Q4   \n"
   ]
  },
  {
   "cell_type": "code",
   "execution_count": 22,
   "metadata": {},
   "outputs": [
    {
     "data": {
      "text/html": [
       "<div>\n",
       "<style scoped>\n",
       "    .dataframe tbody tr th:only-of-type {\n",
       "        vertical-align: middle;\n",
       "    }\n",
       "\n",
       "    .dataframe tbody tr th {\n",
       "        vertical-align: top;\n",
       "    }\n",
       "\n",
       "    .dataframe thead th {\n",
       "        text-align: right;\n",
       "    }\n",
       "</style>\n",
       "<table border=\"1\" class=\"dataframe\">\n",
       "  <thead>\n",
       "    <tr style=\"text-align: right;\">\n",
       "      <th></th>\n",
       "      <th>AccountId</th>\n",
       "      <th>AccountName</th>\n",
       "      <th>Region</th>\n",
       "      <th>Division</th>\n",
       "      <th>City</th>\n",
       "      <th>State</th>\n",
       "      <th>Tier</th>\n",
       "      <th>Month</th>\n",
       "      <th>Sales2015</th>\n",
       "      <th>Sales2016</th>\n",
       "      <th>Units2015</th>\n",
       "      <th>Units2016</th>\n",
       "      <th>TargetAchevied2015</th>\n",
       "      <th>TargetAchevied2016</th>\n",
       "      <th>Qtr</th>\n",
       "    </tr>\n",
       "  </thead>\n",
       "  <tbody>\n",
       "    <tr>\n",
       "      <th>0</th>\n",
       "      <td>1116</td>\n",
       "      <td>Account1</td>\n",
       "      <td>West</td>\n",
       "      <td>DIAMONDBACK</td>\n",
       "      <td>PHOENIX W</td>\n",
       "      <td>AZ</td>\n",
       "      <td>Low</td>\n",
       "      <td>Aug</td>\n",
       "      <td>0.00</td>\n",
       "      <td>13208.52</td>\n",
       "      <td>0.0</td>\n",
       "      <td>4.0</td>\n",
       "      <td>0.70</td>\n",
       "      <td>1.53</td>\n",
       "      <td>1Q3</td>\n",
       "    </tr>\n",
       "    <tr>\n",
       "      <th>1</th>\n",
       "      <td>1116</td>\n",
       "      <td>Account1</td>\n",
       "      <td>West</td>\n",
       "      <td>DIAMONDBACK</td>\n",
       "      <td>PHOENIX W</td>\n",
       "      <td>AZ</td>\n",
       "      <td>Low</td>\n",
       "      <td>Oct</td>\n",
       "      <td>10500.78</td>\n",
       "      <td>23114.91</td>\n",
       "      <td>3.0</td>\n",
       "      <td>7.0</td>\n",
       "      <td>0.84</td>\n",
       "      <td>1.31</td>\n",
       "      <td>1Q4</td>\n",
       "    </tr>\n",
       "    <tr>\n",
       "      <th>2</th>\n",
       "      <td>2391</td>\n",
       "      <td>Account2</td>\n",
       "      <td>East</td>\n",
       "      <td>MINUTEMEN</td>\n",
       "      <td>HARTFORD</td>\n",
       "      <td>CT</td>\n",
       "      <td>Med</td>\n",
       "      <td>Jun</td>\n",
       "      <td>0.00</td>\n",
       "      <td>6627.00</td>\n",
       "      <td>0.0</td>\n",
       "      <td>3.0</td>\n",
       "      <td>1.15</td>\n",
       "      <td>1.29</td>\n",
       "      <td>1Q2</td>\n",
       "    </tr>\n",
       "    <tr>\n",
       "      <th>3</th>\n",
       "      <td>2391</td>\n",
       "      <td>Account2</td>\n",
       "      <td>East</td>\n",
       "      <td>MINUTEMEN</td>\n",
       "      <td>HARTFORD</td>\n",
       "      <td>CT</td>\n",
       "      <td>Med</td>\n",
       "      <td>Mar</td>\n",
       "      <td>19881.00</td>\n",
       "      <td>13254.00</td>\n",
       "      <td>9.0</td>\n",
       "      <td>6.0</td>\n",
       "      <td>1.33</td>\n",
       "      <td>1.17</td>\n",
       "      <td>1Q1</td>\n",
       "    </tr>\n",
       "    <tr>\n",
       "      <th>4</th>\n",
       "      <td>2397</td>\n",
       "      <td>Account3</td>\n",
       "      <td>East</td>\n",
       "      <td>MINUTEMEN</td>\n",
       "      <td>WORCESTER</td>\n",
       "      <td>MA</td>\n",
       "      <td>Med</td>\n",
       "      <td>Sep</td>\n",
       "      <td>3684.48</td>\n",
       "      <td>0.00</td>\n",
       "      <td>1.0</td>\n",
       "      <td>0.0</td>\n",
       "      <td>1.02</td>\n",
       "      <td>1.53</td>\n",
       "      <td>1Q3</td>\n",
       "    </tr>\n",
       "    <tr>\n",
       "      <th>...</th>\n",
       "      <td>...</td>\n",
       "      <td>...</td>\n",
       "      <td>...</td>\n",
       "      <td>...</td>\n",
       "      <td>...</td>\n",
       "      <td>...</td>\n",
       "      <td>...</td>\n",
       "      <td>...</td>\n",
       "      <td>...</td>\n",
       "      <td>...</td>\n",
       "      <td>...</td>\n",
       "      <td>...</td>\n",
       "      <td>...</td>\n",
       "      <td>...</td>\n",
       "      <td>...</td>\n",
       "    </tr>\n",
       "    <tr>\n",
       "      <th>3704</th>\n",
       "      <td>7576</td>\n",
       "      <td>Account2736</td>\n",
       "      <td>East</td>\n",
       "      <td>EMPIRE</td>\n",
       "      <td>SYRACUSE</td>\n",
       "      <td>NY</td>\n",
       "      <td>Out</td>\n",
       "      <td>Feb</td>\n",
       "      <td>3684.48</td>\n",
       "      <td>0.00</td>\n",
       "      <td>1.0</td>\n",
       "      <td>0.0</td>\n",
       "      <td>1.06</td>\n",
       "      <td>1.14</td>\n",
       "      <td>1Q1</td>\n",
       "    </tr>\n",
       "    <tr>\n",
       "      <th>3705</th>\n",
       "      <td>4969</td>\n",
       "      <td>Account2740</td>\n",
       "      <td>Central</td>\n",
       "      <td>SOUTHERN STAR</td>\n",
       "      <td>MONTGOMERY</td>\n",
       "      <td>AL</td>\n",
       "      <td>Med</td>\n",
       "      <td>Aug</td>\n",
       "      <td>3684.48</td>\n",
       "      <td>0.00</td>\n",
       "      <td>1.0</td>\n",
       "      <td>0.0</td>\n",
       "      <td>0.96</td>\n",
       "      <td>1.11</td>\n",
       "      <td>1Q3</td>\n",
       "    </tr>\n",
       "    <tr>\n",
       "      <th>3706</th>\n",
       "      <td>2850</td>\n",
       "      <td>Account2746</td>\n",
       "      <td>East</td>\n",
       "      <td>SYNERGY</td>\n",
       "      <td>ASHEVILLE</td>\n",
       "      <td>NC</td>\n",
       "      <td>High</td>\n",
       "      <td>Nov</td>\n",
       "      <td>5067.70</td>\n",
       "      <td>0.00</td>\n",
       "      <td>2.0</td>\n",
       "      <td>0.0</td>\n",
       "      <td>1.11</td>\n",
       "      <td>1.55</td>\n",
       "      <td>1Q4</td>\n",
       "    </tr>\n",
       "    <tr>\n",
       "      <th>3707</th>\n",
       "      <td>1102265</td>\n",
       "      <td>Account2748</td>\n",
       "      <td>West</td>\n",
       "      <td>DIAMONDBACK</td>\n",
       "      <td>SCOTTSDALE</td>\n",
       "      <td>AZ</td>\n",
       "      <td>Out</td>\n",
       "      <td>Jan</td>\n",
       "      <td>3684.48</td>\n",
       "      <td>0.00</td>\n",
       "      <td>1.0</td>\n",
       "      <td>0.0</td>\n",
       "      <td>1.31</td>\n",
       "      <td>1.48</td>\n",
       "      <td>1Q1</td>\n",
       "    </tr>\n",
       "    <tr>\n",
       "      <th>3708</th>\n",
       "      <td>47282</td>\n",
       "      <td>Account2750</td>\n",
       "      <td>West</td>\n",
       "      <td>CHARGERS</td>\n",
       "      <td>SAN JOSE</td>\n",
       "      <td>CA</td>\n",
       "      <td>Low</td>\n",
       "      <td>Jun</td>\n",
       "      <td>2858.71</td>\n",
       "      <td>0.00</td>\n",
       "      <td>1.0</td>\n",
       "      <td>0.0</td>\n",
       "      <td>1.33</td>\n",
       "      <td>1.01</td>\n",
       "      <td>1Q2</td>\n",
       "    </tr>\n",
       "  </tbody>\n",
       "</table>\n",
       "<p>3709 rows × 15 columns</p>\n",
       "</div>"
      ],
      "text/plain": [
       "      AccountId  AccountName   Region       Division        City State  Tier  \\\n",
       "0          1116     Account1     West    DIAMONDBACK   PHOENIX W    AZ   Low   \n",
       "1          1116     Account1     West    DIAMONDBACK   PHOENIX W    AZ   Low   \n",
       "2          2391     Account2     East      MINUTEMEN    HARTFORD    CT   Med   \n",
       "3          2391     Account2     East      MINUTEMEN    HARTFORD    CT   Med   \n",
       "4          2397     Account3     East      MINUTEMEN   WORCESTER    MA   Med   \n",
       "...         ...          ...      ...            ...         ...   ...   ...   \n",
       "3704       7576  Account2736     East         EMPIRE    SYRACUSE    NY   Out   \n",
       "3705       4969  Account2740  Central  SOUTHERN STAR  MONTGOMERY    AL   Med   \n",
       "3706       2850  Account2746     East        SYNERGY   ASHEVILLE    NC  High   \n",
       "3707    1102265  Account2748     West    DIAMONDBACK  SCOTTSDALE    AZ   Out   \n",
       "3708      47282  Account2750     West       CHARGERS    SAN JOSE    CA   Low   \n",
       "\n",
       "     Month  Sales2015  Sales2016  Units2015  Units2016  TargetAchevied2015  \\\n",
       "0      Aug       0.00   13208.52        0.0        4.0                0.70   \n",
       "1      Oct   10500.78   23114.91        3.0        7.0                0.84   \n",
       "2      Jun       0.00    6627.00        0.0        3.0                1.15   \n",
       "3      Mar   19881.00   13254.00        9.0        6.0                1.33   \n",
       "4      Sep    3684.48       0.00        1.0        0.0                1.02   \n",
       "...    ...        ...        ...        ...        ...                 ...   \n",
       "3704   Feb    3684.48       0.00        1.0        0.0                1.06   \n",
       "3705   Aug    3684.48       0.00        1.0        0.0                0.96   \n",
       "3706   Nov    5067.70       0.00        2.0        0.0                1.11   \n",
       "3707   Jan    3684.48       0.00        1.0        0.0                1.31   \n",
       "3708   Jun    2858.71       0.00        1.0        0.0                1.33   \n",
       "\n",
       "      TargetAchevied2016  Qtr  \n",
       "0                   1.53  1Q3  \n",
       "1                   1.31  1Q4  \n",
       "2                   1.29  1Q2  \n",
       "3                   1.17  1Q1  \n",
       "4                   1.53  1Q3  \n",
       "...                  ...  ...  \n",
       "3704                1.14  1Q1  \n",
       "3705                1.11  1Q3  \n",
       "3706                1.55  1Q4  \n",
       "3707                1.48  1Q1  \n",
       "3708                1.01  1Q2  \n",
       "\n",
       "[3709 rows x 15 columns]"
      ]
     },
     "execution_count": 22,
     "metadata": {},
     "output_type": "execute_result"
    }
   ],
   "source": [
    "sales['Qtr'] = sales['Month'].map(lambda x: pd.Period(x,'Q'))\n",
    "sales"
   ]
  },
  {
   "cell_type": "markdown",
   "metadata": {},
   "source": [
    "### 7. Compare Qtr wise sales in 2015 and 2016 in a bar plot\n"
   ]
  },
  {
   "cell_type": "code",
   "execution_count": 23,
   "metadata": {},
   "outputs": [
    {
     "data": {
      "text/plain": [
       "<matplotlib.axes._subplots.AxesSubplot at 0x1cf0e520908>"
      ]
     },
     "execution_count": 23,
     "metadata": {},
     "output_type": "execute_result"
    },
    {
     "data": {
      "image/png": "[encoded data removed]",
      "text/plain": [
       "<Figure size 432x288 with 1 Axes>"
      ]
     },
     "metadata": {
      "needs_background": "light"
     },
     "output_type": "display_data"
    }
   ],
   "source": [
    "sales.groupby(['Qtr'],sort=True)[['Sales2015','Sales2016']].sum().plot(kind=\"bar\",width = .8)"
   ]
  },
  {
   "cell_type": "markdown",
   "metadata": {},
   "source": [
    "### 8. Determine the composition of Qtr wise sales in and 2016 with regards to all the Tiers in a pie chart."
   ]
  },
  {
   "cell_type": "code",
   "execution_count": 32,
   "metadata": {},
   "outputs": [
    {
     "data": {
      "text/plain": [
       "array([<matplotlib.axes._subplots.AxesSubplot object at 0x000001CF121629C8>],\n",
       "      dtype=object)"
      ]
     },
     "execution_count": 32,
     "metadata": {},
     "output_type": "execute_result"
    },
    {
     "data": {
      "image/png": "[encoded data removed]",
      "text/plain": [
       "<Figure size 432x288 with 1 Axes>"
      ]
     },
     "metadata": {
      "needs_background": "light"
     },
     "output_type": "display_data"
    }
   ],
   "source": [
    "#8. Determine the composition of Qtr wise sales in and 2016 with regards to all the Tiers in a pie chart.\n",
    "\n",
    "sal=sales.groupby(['Qtr','Tier'])[['Sales2016']].sum()\n",
    "sal.where(sal.Sales2016 > 0,0).plot.pie(radius=1, frame=True,subplots=True)"
   ]
  },
  {
   "cell_type": "code",
   "execution_count": null,
   "metadata": {},
   "outputs": [],
   "source": []
  },
  {
   "cell_type": "code",
   "execution_count": null,
   "metadata": {
    "collapsed": true
   },
   "outputs": [],
   "source": []
  }
 ],
 "metadata": {
  "kernelspec": {
   "display_name": "Python 3",
   "language": "python",
   "name": "python3"
  },
  "language_info": {
   "codemirror_mode": {
    "name": "ipython",
    "version": 3
   },
   "file_extension": ".py",
   "mimetype": "text/x-python",
   "name": "python",
   "nbconvert_exporter": "python",
   "pygments_lexer": "ipython3",
   "version": "3.7.6"
  }
 },
 "nbformat": 4,
 "nbformat_minor": 2
}
